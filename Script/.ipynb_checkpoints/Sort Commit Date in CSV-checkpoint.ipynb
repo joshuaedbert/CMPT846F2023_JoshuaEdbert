{
 "cells": [
  {
   "cell_type": "code",
   "execution_count": 2,
   "id": "4181123a",
   "metadata": {},
   "outputs": [],
   "source": [
    "import pandas as pd"
   ]
  },
  {
   "cell_type": "code",
   "execution_count": 3,
   "id": "dcf27aa2",
   "metadata": {},
   "outputs": [],
   "source": [
    "# Load the CSV files\n",
    "file_path_1 = '../848_DanielSmith_____dbsmith@google.com.csv'\n",
    "#file_path_2 = '../5607_StanHu_____stanhu@gmail.com.csv'\n",
    "data_1 = pd.read_csv(file_path_1)\n",
    "#data_2 = pd.read_csv(file_path_2)"
   ]
  },
  {
   "cell_type": "code",
   "execution_count": 4,
   "id": "09a63734",
   "metadata": {},
   "outputs": [
    {
     "data": {
      "text/plain": [
       "'../sorted_848_DanielSmith.csv'"
      ]
     },
     "execution_count": 4,
     "metadata": {},
     "output_type": "execute_result"
    }
   ],
   "source": [
    "# Convert the 'Commit Date' column to datetime format for accurate sorting\n",
    "data_1['Commit Date'] = pd.to_datetime(data_1['Commit Date'])\n",
    "#data_2['Commit Date'] = pd.to_datetime(data_2['Commit Date'])\n",
    "\n",
    "# Sort the data by 'Commit Date' from oldest to most recent\n",
    "data_1_sorted = data_1.sort_values(by='Commit Date')\n",
    "#data_2_sorted = data_2.sort_values(by='Commit Date')\n",
    "\n",
    "# Save the sorted data back to CSV files\n",
    "sorted_file_path_1 = '../sorted_848_DanielSmith.csv'\n",
    "#sorted_file_path_2 = '../sorted_5607_StanHu.csv'\n",
    "data_1_sorted.to_csv(sorted_file_path_1, index=False)\n",
    "#data_2_sorted.to_csv(sorted_file_path_2, index=False)\n",
    "\n",
    "# Output the paths to the sorted CSV files\n",
    "sorted_file_path_1"
   ]
  },
  {
   "cell_type": "code",
   "execution_count": null,
   "id": "f3869ba0",
   "metadata": {},
   "outputs": [],
   "source": []
  }
 ],
 "metadata": {
  "kernelspec": {
   "display_name": "Python 3 (ipykernel)",
   "language": "python",
   "name": "python3"
  },
  "language_info": {
   "codemirror_mode": {
    "name": "ipython",
    "version": 3
   },
   "file_extension": ".py",
   "mimetype": "text/x-python",
   "name": "python",
   "nbconvert_exporter": "python",
   "pygments_lexer": "ipython3",
   "version": "3.9.13"
  }
 },
 "nbformat": 4,
 "nbformat_minor": 5
}
