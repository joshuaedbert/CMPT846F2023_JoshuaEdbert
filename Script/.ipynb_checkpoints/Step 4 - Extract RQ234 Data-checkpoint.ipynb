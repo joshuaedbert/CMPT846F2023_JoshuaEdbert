{
 "cells": [
  {
   "cell_type": "code",
   "execution_count": null,
   "id": "eed2d8cc",
   "metadata": {},
   "outputs": [],
   "source": [
    "import pandas as pd\n",
    "import matplotlib.pyplot as plt\n",
    "import matplotlib.dates as mdates\n",
    "from datetime import datetime"
   ]
  },
  {
   "cell_type": "code",
   "execution_count": null,
   "id": "dcfd76e7",
   "metadata": {},
   "outputs": [],
   "source": [
    "# Load the attached CSV file\n",
    "df = pd.read_csv('../FinalDataset/kubernetes_danielsmith_final.csv')\n",
    "df.tail()"
   ]
  },
  {
   "cell_type": "code",
   "execution_count": null,
   "id": "fd528a97",
   "metadata": {},
   "outputs": [],
   "source": [
    "# Convert 'Commit Date' to datetime, handling the specific format and timezone\n",
    "#df['Commit Date'] = pd.to_datetime(df['Commit Date'], format='%a %b %d %H:%M:%S %Y %z')\n",
    "df['Commit Date'] = pd.to_datetime(df['Commit Date'])\n",
    "\n",
    "# Sort by 'Commit Date'\n",
    "df.sort_values('Commit Date', inplace=True)\n",
    "df.head()"
   ]
  },
  {
   "cell_type": "markdown",
   "id": "0c79cccc",
   "metadata": {},
   "source": [
    "## Seniority Metric"
   ]
  },
  {
   "cell_type": "code",
   "execution_count": null,
   "id": "c0913df8",
   "metadata": {},
   "outputs": [],
   "source": [
    "# Set the 'Seniority' column for the first row to 0\n",
    "df.loc[df.index[0], 'Seniority'] = 0\n",
    "df.head()"
   ]
  },
  {
   "cell_type": "code",
   "execution_count": null,
   "id": "4a2f043b",
   "metadata": {},
   "outputs": [],
   "source": [
    "# Assuming 'Commit Date' has been correctly converted to datetime\n",
    "first_date = df.iloc[0]['Commit Date']\n",
    "\n",
    "# Use apply to calculate the difference in days for each row\n",
    "df['Seniority'] = df['Commit Date'].apply(lambda x: (x - first_date).days)\n",
    "\n",
    "df.tail()"
   ]
  },
  {
   "cell_type": "code",
   "execution_count": null,
   "id": "1f9a2139",
   "metadata": {},
   "outputs": [],
   "source": [
    "# df.to_csv('../FinalDataset/gitlab_stanhu_final.csv', index=False)"
   ]
  },
  {
   "cell_type": "markdown",
   "id": "10966b2d",
   "metadata": {},
   "source": [
    "## Commit Metric"
   ]
  },
  {
   "cell_type": "code",
   "execution_count": null,
   "id": "364baa11",
   "metadata": {},
   "outputs": [],
   "source": [
    "# Process the DataFrame\n",
    "# When the row is 'Merge' and the current commit hash is the same as the previous, don't increment the 'Commit' value\n",
    "commit_counter = 0\n",
    "for index, row in df.iterrows():\n",
    "    if index == 0 or row['Type'] != 'Merge' or row['Current Commit'] != df.loc[index - 1, 'Current Commit']:\n",
    "        # Increment the commit counter if it's the first row, a normal row, or a merge with a different commit hash\n",
    "        commit_counter += 1\n",
    "    df.at[index, 'Commit'] = commit_counter"
   ]
  },
  {
   "cell_type": "code",
   "execution_count": null,
   "id": "586ea5d6",
   "metadata": {},
   "outputs": [],
   "source": [
    "df.head()"
   ]
  },
  {
   "cell_type": "code",
   "execution_count": null,
   "id": "7826e730",
   "metadata": {},
   "outputs": [],
   "source": [
    "# df.to_csv('../FinalDataset/homeassistant_jnickkoston_final.csv', index=False)"
   ]
  },
  {
   "cell_type": "markdown",
   "id": "325a3893",
   "metadata": {},
   "source": [
    "## NCLOC Accumulation Per Commit"
   ]
  },
  {
   "cell_type": "code",
   "execution_count": null,
   "id": "5e424e17",
   "metadata": {},
   "outputs": [],
   "source": [
    "df['lines'] = df['lines_current'] - df['lines_parent']\n",
    "df.head()"
   ]
  },
  {
   "cell_type": "markdown",
   "id": "bb574e37",
   "metadata": {},
   "source": [
    "## NCLOC Accumulation So Far"
   ]
  },
  {
   "cell_type": "code",
   "execution_count": null,
   "id": "4c9428b2",
   "metadata": {},
   "outputs": [],
   "source": [
    "# Initialize the 'cumulative_final_td' column\n",
    "df['cumulative_lines'] = 0\n",
    "\n",
    "for i in range(len(df)):\n",
    "    if i != 0:\n",
    "        df.iloc[i, df.columns.get_loc('cumulative_lines')] = df.iloc[i - 1, df.columns.get_loc('cumulative_lines')] + df.iloc[i, df.columns.get_loc('lines')]\n",
    "    else:\n",
    "        df.iloc[i, df.columns.get_loc('cumulative_lines')] = df.iloc[i, df.columns.get_loc('lines')]\n",
    "\n",
    "df.head()"
   ]
  },
  {
   "cell_type": "markdown",
   "id": "5ab98509",
   "metadata": {},
   "source": [
    "## TD Accumulation Per Commit"
   ]
  },
  {
   "cell_type": "code",
   "execution_count": null,
   "id": "f14a3ad6",
   "metadata": {},
   "outputs": [],
   "source": [
    "# Calculate the 'final_td' column by subtracting 'sqale_index_parent' from 'sqale_index_current'\n",
    "df['sqale_index'] = df['sqale_index_current'] - df['sqale_index_parent']\n",
    "df.head()"
   ]
  },
  {
   "cell_type": "markdown",
   "id": "17f81040",
   "metadata": {},
   "source": [
    "## TD Accumulation So Far"
   ]
  },
  {
   "cell_type": "code",
   "execution_count": null,
   "id": "f3c537b2",
   "metadata": {},
   "outputs": [],
   "source": [
    "# Initialize the 'cumulative_final_td' column\n",
    "df['cumulative_sqale_index'] = 0\n",
    "\n",
    "# Calculate the cumulative sum of 'final_td'\n",
    "for i in range(len(df)):\n",
    "    if i != 0:\n",
    "        df.iloc[i, df.columns.get_loc('cumulative_sqale_index')] = df.iloc[i - 1, df.columns.get_loc('cumulative_sqale_index')] + df.iloc[i, df.columns.get_loc('sqale_index')]\n",
    "    else:\n",
    "        df.iloc[i, df.columns.get_loc('cumulative_sqale_index')] = df.iloc[i, df.columns.get_loc('sqale_index')]\n",
    "\n",
    "df.head()"
   ]
  },
  {
   "cell_type": "code",
   "execution_count": null,
   "id": "6dccce27",
   "metadata": {},
   "outputs": [],
   "source": [
    "df.to_csv(\"../FinalDataset/kubernetes_danielsmith_final.csv\", index=False)"
   ]
  },
  {
   "cell_type": "code",
   "execution_count": null,
   "id": "f44858d1",
   "metadata": {},
   "outputs": [],
   "source": []
  }
 ],
 "metadata": {
  "kernelspec": {
   "display_name": "Python 3 (ipykernel)",
   "language": "python",
   "name": "python3"
  },
  "language_info": {
   "codemirror_mode": {
    "name": "ipython",
    "version": 3
   },
   "file_extension": ".py",
   "mimetype": "text/x-python",
   "name": "python",
   "nbconvert_exporter": "python",
   "pygments_lexer": "ipython3",
   "version": "3.9.13"
  }
 },
 "nbformat": 4,
 "nbformat_minor": 5
}
