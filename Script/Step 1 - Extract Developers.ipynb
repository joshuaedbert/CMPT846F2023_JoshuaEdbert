{
 "cells": [
  {
   "cell_type": "code",
   "execution_count": null,
   "id": "d32c638d",
   "metadata": {},
   "outputs": [],
   "source": [
    "#!/bin/bash\n",
    "\n",
    "OUTPUT_FILE=\"developers.csv\"\n",
    "\n",
    "# Extract the authors and their emails, sort and deduplicate, and then write to a CSV file\n",
    "echo \"Name,Email\" > \"$OUTPUT_FILE\"\n",
    "git log --all --format=\"%aN,%aE\" | sort -u >> \"$OUTPUT_FILE\"\n",
    "\n",
    "echo \"Data written to $OUTPUT_FILE!\"\n"
   ]
  }
 ],
 "metadata": {
  "kernelspec": {
   "display_name": "Python 3 (ipykernel)",
   "language": "python",
   "name": "python3"
  },
  "language_info": {
   "codemirror_mode": {
    "name": "ipython",
    "version": 3
   },
   "file_extension": ".py",
   "mimetype": "text/x-python",
   "name": "python",
   "nbconvert_exporter": "python",
   "pygments_lexer": "ipython3",
   "version": "3.9.13"
  }
 },
 "nbformat": 4,
 "nbformat_minor": 5
}
