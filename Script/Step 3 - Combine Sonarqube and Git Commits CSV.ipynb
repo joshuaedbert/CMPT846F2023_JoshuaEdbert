{
 "cells": [
  {
   "cell_type": "markdown",
   "id": "e5f25e29",
   "metadata": {},
   "source": [
    "Remove duplicated commit hash"
   ]
  },
  {
   "cell_type": "code",
   "execution_count": null,
   "id": "02b38ffb",
   "metadata": {},
   "outputs": [],
   "source": [
    "import pandas as pd\n",
    "\n",
    "# Load the Sonarqube CSV file\n",
    "sonarqube_df = pd.read_csv('../Sonarqube/sorted_2458_TimoGraham.csv')\n",
    "# sonarqube_df.head()"
   ]
  },
  {
   "cell_type": "markdown",
   "id": "1416f566",
   "metadata": {},
   "source": [
    "Extract sqale_index and ncloc "
   ]
  },
  {
   "cell_type": "code",
   "execution_count": null,
   "id": "ff3d1f36",
   "metadata": {},
   "outputs": [],
   "source": [
    "#Load the Commit CSV file\n",
    "commit_df = pd.read_csv(\"../Django_Commits/2458_Timo Graham_____timograham@gmail.com.csv\")\n",
    "# commit_df.head()"
   ]
  },
  {
   "cell_type": "code",
   "execution_count": null,
   "id": "d712d6fc",
   "metadata": {},
   "outputs": [],
   "source": [
    "# function to extract values from the previous_df based on commit hash\n",
    "def get_commit_data(commit_hash, column_name):\n",
    "    # This will attempt to return the value from the column_name where the CommitHash matches\n",
    "    data_row = sonarqube_df[sonarqube_df['CommitHash'] == commit_hash]\n",
    "    if not data_row.empty:\n",
    "        return data_row.iloc[0][column_name]\n",
    "    else:\n",
    "        return None\n",
    "\n",
    "# Placeholder columns names, to be replaced with actual ones when confirmed\n",
    "placeholder_sqale_index_column = 'sqale_index'\n",
    "placeholder_ncloc_column = 'lines'\n",
    "#placeholder_lines_column = 'lines'\n",
    "\n",
    "# Apply the placeholder function to extract data for the new dataframe columns\n",
    "commit_df['sqale_index_current'] = commit_df['Current Commit'].apply(get_commit_data, args=(placeholder_sqale_index_column,))\n",
    "commit_df['sqale_index_parent'] = commit_df['Parent Commit'].apply(get_commit_data, args=(placeholder_sqale_index_column,))\n",
    "commit_df['lines_current'] = commit_df['Current Commit'].apply(get_commit_data, args=(placeholder_ncloc_column,))\n",
    "commit_df['lines_parent'] = commit_df['Parent Commit'].apply(get_commit_data, args=(placeholder_ncloc_column,))\n",
    "\n",
    "# Display the first few rows to verify if the values have been populated correctly\n",
    "#commit_df.tail()"
   ]
  },
  {
   "cell_type": "code",
   "execution_count": null,
   "id": "0aa7c271",
   "metadata": {},
   "outputs": [],
   "source": [
    "commit_df.to_csv(\"../FinalDataset/django_timograham_final.csv\", index=False)"
   ]
  },
  {
   "cell_type": "code",
   "execution_count": null,
   "id": "0d32530c",
   "metadata": {},
   "outputs": [],
   "source": []
  }
 ],
 "metadata": {
  "kernelspec": {
   "display_name": "Python 3 (ipykernel)",
   "language": "python",
   "name": "python3"
  },
  "language_info": {
   "codemirror_mode": {
    "name": "ipython",
    "version": 3
   },
   "file_extension": ".py",
   "mimetype": "text/x-python",
   "name": "python",
   "nbconvert_exporter": "python",
   "pygments_lexer": "ipython3",
   "version": "3.9.13"
  }
 },
 "nbformat": 4,
 "nbformat_minor": 5
}
