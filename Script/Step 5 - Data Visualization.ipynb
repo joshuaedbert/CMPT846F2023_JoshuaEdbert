{
 "cells": [
  {
   "cell_type": "code",
   "execution_count": 1,
   "id": "dcf0527d",
   "metadata": {},
   "outputs": [],
   "source": [
    "import pandas as pd\n",
    "import matplotlib.pyplot as plt\n",
    "import matplotlib.dates as mdates\n",
    "from datetime import datetime"
   ]
  },
  {
   "cell_type": "code",
   "execution_count": 2,
   "id": "5c096088",
   "metadata": {},
   "outputs": [
    {
     "data": {
      "text/html": [
       "<div>\n",
       "<style scoped>\n",
       "    .dataframe tbody tr th:only-of-type {\n",
       "        vertical-align: middle;\n",
       "    }\n",
       "\n",
       "    .dataframe tbody tr th {\n",
       "        vertical-align: top;\n",
       "    }\n",
       "\n",
       "    .dataframe thead th {\n",
       "        text-align: right;\n",
       "    }\n",
       "</style>\n",
       "<table border=\"1\" class=\"dataframe\">\n",
       "  <thead>\n",
       "    <tr style=\"text-align: right;\">\n",
       "      <th></th>\n",
       "      <th>Current Commit</th>\n",
       "      <th>Parent Commit</th>\n",
       "      <th>Commit Date</th>\n",
       "      <th>Type</th>\n",
       "      <th>sqale_index_current</th>\n",
       "      <th>sqale_index_parent</th>\n",
       "      <th>lines_current</th>\n",
       "      <th>lines_parent</th>\n",
       "      <th>Seniority</th>\n",
       "      <th>Commit</th>\n",
       "      <th>lines</th>\n",
       "      <th>cumulative_lines</th>\n",
       "      <th>sqale_index</th>\n",
       "      <th>cumulative_sqale_index</th>\n",
       "    </tr>\n",
       "  </thead>\n",
       "  <tbody>\n",
       "    <tr>\n",
       "      <th>0</th>\n",
       "      <td>c4aab16b0440f9cfccb629ebaa912c46b95b46aa</td>\n",
       "      <td>affba42a0520ecf6bab040fb7971284ef9bf450a</td>\n",
       "      <td>2015-07-10 10:54:47-07:00</td>\n",
       "      <td>Normal</td>\n",
       "      <td>94514.0</td>\n",
       "      <td>94499.0</td>\n",
       "      <td>833950.0</td>\n",
       "      <td>833796.0</td>\n",
       "      <td>0</td>\n",
       "      <td>1.0</td>\n",
       "      <td>154.0</td>\n",
       "      <td>154.0</td>\n",
       "      <td>15.0</td>\n",
       "      <td>15.0</td>\n",
       "    </tr>\n",
       "    <tr>\n",
       "      <th>1</th>\n",
       "      <td>59dca5ba7d70cde8a0b50b182f817ccfece92cab</td>\n",
       "      <td>9ef38c124c1caa1cbf927de97a007c83f624b12a</td>\n",
       "      <td>2015-07-10 10:54:47-07:00</td>\n",
       "      <td>Normal</td>\n",
       "      <td>94514.0</td>\n",
       "      <td>94514.0</td>\n",
       "      <td>833950.0</td>\n",
       "      <td>833950.0</td>\n",
       "      <td>0</td>\n",
       "      <td>2.0</td>\n",
       "      <td>0.0</td>\n",
       "      <td>154.0</td>\n",
       "      <td>0.0</td>\n",
       "      <td>15.0</td>\n",
       "    </tr>\n",
       "    <tr>\n",
       "      <th>2</th>\n",
       "      <td>c03a788c6768bfd59e8ab56546a91c9abe46723a</td>\n",
       "      <td>c4aab16b0440f9cfccb629ebaa912c46b95b46aa</td>\n",
       "      <td>2015-07-10 10:54:47-07:00</td>\n",
       "      <td>Normal</td>\n",
       "      <td>94514.0</td>\n",
       "      <td>94514.0</td>\n",
       "      <td>833950.0</td>\n",
       "      <td>833950.0</td>\n",
       "      <td>0</td>\n",
       "      <td>3.0</td>\n",
       "      <td>0.0</td>\n",
       "      <td>154.0</td>\n",
       "      <td>0.0</td>\n",
       "      <td>15.0</td>\n",
       "    </tr>\n",
       "    <tr>\n",
       "      <th>3</th>\n",
       "      <td>9ef38c124c1caa1cbf927de97a007c83f624b12a</td>\n",
       "      <td>c03a788c6768bfd59e8ab56546a91c9abe46723a</td>\n",
       "      <td>2015-07-10 10:54:47-07:00</td>\n",
       "      <td>Normal</td>\n",
       "      <td>94514.0</td>\n",
       "      <td>94514.0</td>\n",
       "      <td>833950.0</td>\n",
       "      <td>833950.0</td>\n",
       "      <td>0</td>\n",
       "      <td>4.0</td>\n",
       "      <td>0.0</td>\n",
       "      <td>154.0</td>\n",
       "      <td>0.0</td>\n",
       "      <td>15.0</td>\n",
       "    </tr>\n",
       "    <tr>\n",
       "      <th>4</th>\n",
       "      <td>1263a306447645ec2a9eb44b9db383b3dd5a8591</td>\n",
       "      <td>ffcc6cadb0406de99418c5465e25d8617c1d8796</td>\n",
       "      <td>2015-07-13 17:47:48-07:00</td>\n",
       "      <td>Normal</td>\n",
       "      <td>94591.0</td>\n",
       "      <td>94591.0</td>\n",
       "      <td>835278.0</td>\n",
       "      <td>835278.0</td>\n",
       "      <td>3</td>\n",
       "      <td>5.0</td>\n",
       "      <td>0.0</td>\n",
       "      <td>154.0</td>\n",
       "      <td>0.0</td>\n",
       "      <td>15.0</td>\n",
       "    </tr>\n",
       "  </tbody>\n",
       "</table>\n",
       "</div>"
      ],
      "text/plain": [
       "                             Current Commit  \\\n",
       "0  c4aab16b0440f9cfccb629ebaa912c46b95b46aa   \n",
       "1  59dca5ba7d70cde8a0b50b182f817ccfece92cab   \n",
       "2  c03a788c6768bfd59e8ab56546a91c9abe46723a   \n",
       "3  9ef38c124c1caa1cbf927de97a007c83f624b12a   \n",
       "4  1263a306447645ec2a9eb44b9db383b3dd5a8591   \n",
       "\n",
       "                              Parent Commit                Commit Date  \\\n",
       "0  affba42a0520ecf6bab040fb7971284ef9bf450a  2015-07-10 10:54:47-07:00   \n",
       "1  9ef38c124c1caa1cbf927de97a007c83f624b12a  2015-07-10 10:54:47-07:00   \n",
       "2  c4aab16b0440f9cfccb629ebaa912c46b95b46aa  2015-07-10 10:54:47-07:00   \n",
       "3  c03a788c6768bfd59e8ab56546a91c9abe46723a  2015-07-10 10:54:47-07:00   \n",
       "4  ffcc6cadb0406de99418c5465e25d8617c1d8796  2015-07-13 17:47:48-07:00   \n",
       "\n",
       "     Type  sqale_index_current  sqale_index_parent  lines_current  \\\n",
       "0  Normal              94514.0             94499.0       833950.0   \n",
       "1  Normal              94514.0             94514.0       833950.0   \n",
       "2  Normal              94514.0             94514.0       833950.0   \n",
       "3  Normal              94514.0             94514.0       833950.0   \n",
       "4  Normal              94591.0             94591.0       835278.0   \n",
       "\n",
       "   lines_parent  Seniority  Commit  lines  cumulative_lines  sqale_index  \\\n",
       "0      833796.0          0     1.0  154.0             154.0         15.0   \n",
       "1      833950.0          0     2.0    0.0             154.0          0.0   \n",
       "2      833950.0          0     3.0    0.0             154.0          0.0   \n",
       "3      833950.0          0     4.0    0.0             154.0          0.0   \n",
       "4      835278.0          3     5.0    0.0             154.0          0.0   \n",
       "\n",
       "   cumulative_sqale_index  \n",
       "0                    15.0  \n",
       "1                    15.0  \n",
       "2                    15.0  \n",
       "3                    15.0  \n",
       "4                    15.0  "
      ]
     },
     "execution_count": 2,
     "metadata": {},
     "output_type": "execute_result"
    }
   ],
   "source": [
    "# Load the attached CSV file\n",
    "df_to_filter = pd.read_csv('../FinalDataset/kubernetes_danielsmith_final.csv')\n",
    "df_to_filter.head()\n",
    "#df_to_filter[:10]"
   ]
  },
  {
   "cell_type": "code",
   "execution_count": 3,
   "id": "66e215a6",
   "metadata": {},
   "outputs": [],
   "source": [
    "# Filter out the rows where the 'Type' column is \"Normal\"\n",
    "filtered_df = df_to_filter[df_to_filter['Type'] == \"Normal\"]\n",
    "\n",
    "# Remove or replace rows where 'lines' is zero\n",
    "filtered_df = filtered_df[filtered_df['lines'] != 0]\n",
    "\n",
    "# Display the first few rows of the filtered dataframe for verification\n",
    "#filtered_df[:10]"
   ]
  },
  {
   "cell_type": "code",
   "execution_count": 4,
   "id": "1f91cebd",
   "metadata": {},
   "outputs": [
    {
     "data": {
      "text/html": [
       "<div>\n",
       "<style scoped>\n",
       "    .dataframe tbody tr th:only-of-type {\n",
       "        vertical-align: middle;\n",
       "    }\n",
       "\n",
       "    .dataframe tbody tr th {\n",
       "        vertical-align: top;\n",
       "    }\n",
       "\n",
       "    .dataframe thead th {\n",
       "        text-align: right;\n",
       "    }\n",
       "</style>\n",
       "<table border=\"1\" class=\"dataframe\">\n",
       "  <thead>\n",
       "    <tr style=\"text-align: right;\">\n",
       "      <th></th>\n",
       "      <th>Current Commit</th>\n",
       "      <th>Parent Commit</th>\n",
       "      <th>Commit Date</th>\n",
       "      <th>Type</th>\n",
       "      <th>sqale_index_current</th>\n",
       "      <th>sqale_index_parent</th>\n",
       "      <th>lines_current</th>\n",
       "      <th>lines_parent</th>\n",
       "      <th>Seniority</th>\n",
       "      <th>Commit</th>\n",
       "      <th>lines</th>\n",
       "      <th>cumulative_lines</th>\n",
       "      <th>sqale_index</th>\n",
       "      <th>cumulative_sqale_index</th>\n",
       "      <th>normalized_sqale_index</th>\n",
       "    </tr>\n",
       "  </thead>\n",
       "  <tbody>\n",
       "    <tr>\n",
       "      <th>0</th>\n",
       "      <td>c4aab16b0440f9cfccb629ebaa912c46b95b46aa</td>\n",
       "      <td>affba42a0520ecf6bab040fb7971284ef9bf450a</td>\n",
       "      <td>2015-07-10 10:54:47-07:00</td>\n",
       "      <td>Normal</td>\n",
       "      <td>94514.0</td>\n",
       "      <td>94499.0</td>\n",
       "      <td>833950.0</td>\n",
       "      <td>833796.0</td>\n",
       "      <td>0</td>\n",
       "      <td>1.0</td>\n",
       "      <td>154.0</td>\n",
       "      <td>154.0</td>\n",
       "      <td>15.0</td>\n",
       "      <td>15.0</td>\n",
       "      <td>0.097403</td>\n",
       "    </tr>\n",
       "    <tr>\n",
       "      <th>5</th>\n",
       "      <td>bf77ecc3a981d59c95d75f1ca2685974fed4395e</td>\n",
       "      <td>a41f508451a8a0b917ab5e0627296c86889ec9db</td>\n",
       "      <td>2015-07-13 17:47:48-07:00</td>\n",
       "      <td>Normal</td>\n",
       "      <td>94591.0</td>\n",
       "      <td>94545.0</td>\n",
       "      <td>835278.0</td>\n",
       "      <td>834936.0</td>\n",
       "      <td>3</td>\n",
       "      <td>6.0</td>\n",
       "      <td>342.0</td>\n",
       "      <td>496.0</td>\n",
       "      <td>46.0</td>\n",
       "      <td>61.0</td>\n",
       "      <td>0.134503</td>\n",
       "    </tr>\n",
       "    <tr>\n",
       "      <th>12</th>\n",
       "      <td>4d1bf3a0ca99ff9f41e7b7aa73426aa903ac8b21</td>\n",
       "      <td>f3b752d831708ccdad564bd188abb11822c51595</td>\n",
       "      <td>2015-07-16 16:23:19-07:00</td>\n",
       "      <td>Normal</td>\n",
       "      <td>94644.0</td>\n",
       "      <td>94639.0</td>\n",
       "      <td>835622.0</td>\n",
       "      <td>835602.0</td>\n",
       "      <td>6</td>\n",
       "      <td>13.0</td>\n",
       "      <td>20.0</td>\n",
       "      <td>516.0</td>\n",
       "      <td>5.0</td>\n",
       "      <td>66.0</td>\n",
       "      <td>0.250000</td>\n",
       "    </tr>\n",
       "    <tr>\n",
       "      <th>14</th>\n",
       "      <td>2a112a0004f28afcac2c0bb5f8be76703adb9727</td>\n",
       "      <td>e81645b973b2e9fef5e6d216455f6a75f537d7ed</td>\n",
       "      <td>2015-07-17 11:04:46-07:00</td>\n",
       "      <td>Normal</td>\n",
       "      <td>94668.0</td>\n",
       "      <td>94658.0</td>\n",
       "      <td>836094.0</td>\n",
       "      <td>836010.0</td>\n",
       "      <td>7</td>\n",
       "      <td>15.0</td>\n",
       "      <td>84.0</td>\n",
       "      <td>600.0</td>\n",
       "      <td>10.0</td>\n",
       "      <td>76.0</td>\n",
       "      <td>0.119048</td>\n",
       "    </tr>\n",
       "    <tr>\n",
       "      <th>17</th>\n",
       "      <td>b563bb3760bd84dab8abc75d67611479ef3fbed4</td>\n",
       "      <td>f7873d2a1ffd2874051d8368a8fdcc039ad82395</td>\n",
       "      <td>2015-07-17 11:58:50-07:00</td>\n",
       "      <td>Normal</td>\n",
       "      <td>94668.0</td>\n",
       "      <td>94668.0</td>\n",
       "      <td>836098.0</td>\n",
       "      <td>836094.0</td>\n",
       "      <td>7</td>\n",
       "      <td>18.0</td>\n",
       "      <td>4.0</td>\n",
       "      <td>604.0</td>\n",
       "      <td>0.0</td>\n",
       "      <td>76.0</td>\n",
       "      <td>0.000000</td>\n",
       "    </tr>\n",
       "  </tbody>\n",
       "</table>\n",
       "</div>"
      ],
      "text/plain": [
       "                              Current Commit  \\\n",
       "0   c4aab16b0440f9cfccb629ebaa912c46b95b46aa   \n",
       "5   bf77ecc3a981d59c95d75f1ca2685974fed4395e   \n",
       "12  4d1bf3a0ca99ff9f41e7b7aa73426aa903ac8b21   \n",
       "14  2a112a0004f28afcac2c0bb5f8be76703adb9727   \n",
       "17  b563bb3760bd84dab8abc75d67611479ef3fbed4   \n",
       "\n",
       "                               Parent Commit                Commit Date  \\\n",
       "0   affba42a0520ecf6bab040fb7971284ef9bf450a  2015-07-10 10:54:47-07:00   \n",
       "5   a41f508451a8a0b917ab5e0627296c86889ec9db  2015-07-13 17:47:48-07:00   \n",
       "12  f3b752d831708ccdad564bd188abb11822c51595  2015-07-16 16:23:19-07:00   \n",
       "14  e81645b973b2e9fef5e6d216455f6a75f537d7ed  2015-07-17 11:04:46-07:00   \n",
       "17  f7873d2a1ffd2874051d8368a8fdcc039ad82395  2015-07-17 11:58:50-07:00   \n",
       "\n",
       "      Type  sqale_index_current  sqale_index_parent  lines_current  \\\n",
       "0   Normal              94514.0             94499.0       833950.0   \n",
       "5   Normal              94591.0             94545.0       835278.0   \n",
       "12  Normal              94644.0             94639.0       835622.0   \n",
       "14  Normal              94668.0             94658.0       836094.0   \n",
       "17  Normal              94668.0             94668.0       836098.0   \n",
       "\n",
       "    lines_parent  Seniority  Commit  lines  cumulative_lines  sqale_index  \\\n",
       "0       833796.0          0     1.0  154.0             154.0         15.0   \n",
       "5       834936.0          3     6.0  342.0             496.0         46.0   \n",
       "12      835602.0          6    13.0   20.0             516.0          5.0   \n",
       "14      836010.0          7    15.0   84.0             600.0         10.0   \n",
       "17      836094.0          7    18.0    4.0             604.0          0.0   \n",
       "\n",
       "    cumulative_sqale_index  normalized_sqale_index  \n",
       "0                     15.0                0.097403  \n",
       "5                     61.0                0.134503  \n",
       "12                    66.0                0.250000  \n",
       "14                    76.0                0.119048  \n",
       "17                    76.0                0.000000  "
      ]
     },
     "execution_count": 4,
     "metadata": {},
     "output_type": "execute_result"
    }
   ],
   "source": [
    "# Make sure all values in 'lines' are positive\n",
    "filtered_df['lines'] = filtered_df['lines'].abs()\n",
    "\n",
    "# Calculate the normalized_sqale_index\n",
    "filtered_df['normalized_sqale_index'] = filtered_df['sqale_index'] / filtered_df['lines']\n",
    "filtered_df.head()"
   ]
  },
  {
   "cell_type": "code",
   "execution_count": 5,
   "id": "c8d4b9b3",
   "metadata": {},
   "outputs": [],
   "source": [
    "# Convert 'Commit Date' to datetime, handling the specific format and timezone\n",
    "#filtered_df['Commit Date'] = pd.to_datetime(filtered_df['Commit Date'], format='%a %b %d %H:%M:%S %Y %z')\n",
    "filtered_df['Commit Date'] = pd.to_datetime(filtered_df['Commit Date'])\n",
    "\n",
    "# Sort by 'Commit Date'\n",
    "filtered_df.sort_values('Commit Date', inplace=True)\n",
    "# filtered_df.head()"
   ]
  },
  {
   "cell_type": "code",
   "execution_count": 6,
   "id": "1b25acdc",
   "metadata": {},
   "outputs": [],
   "source": [
    "# Remove rows with NaN values in 'normalized_sqale_index'\n",
    "filtered_df.dropna(subset=['normalized_sqale_index'], inplace=True)"
   ]
  },
  {
   "cell_type": "markdown",
   "id": "dcc53cce",
   "metadata": {},
   "source": [
    "RQ1"
   ]
  },
  {
   "cell_type": "code",
   "execution_count": 7,
   "id": "fc5ecdce",
   "metadata": {},
   "outputs": [
    {
     "data": {
      "text/plain": [
       "-0.040807347892535234"
      ]
     },
     "execution_count": 7,
     "metadata": {},
     "output_type": "execute_result"
    }
   ],
   "source": [
    "filtered_df['normalized_sqale_index'].mean()"
   ]
  },
  {
   "cell_type": "code",
   "execution_count": 8,
   "id": "212dc3ba",
   "metadata": {},
   "outputs": [
    {
     "data": {
      "text/plain": [
       "0.0"
      ]
     },
     "execution_count": 8,
     "metadata": {},
     "output_type": "execute_result"
    }
   ],
   "source": [
    "filtered_df['normalized_sqale_index'].median()"
   ]
  },
  {
   "cell_type": "code",
   "execution_count": 9,
   "id": "87485937",
   "metadata": {},
   "outputs": [
    {
     "data": {
      "image/png": "[encoded data removed]",
      "text/plain": [
       "<Figure size 1400x700 with 1 Axes>"
      ]
     },
     "metadata": {},
     "output_type": "display_data"
    }
   ],
   "source": [
    "# Plotting the line graph\n",
    "plt.figure(figsize=(14,7))\n",
    "plt.plot(filtered_df['Commit Date'], filtered_df['normalized_sqale_index'], marker='o')\n",
    "\n",
    "# Format the date on the x-axis\n",
    "plt.gca().xaxis.set_major_formatter(mdates.DateFormatter('%Y-%m'))\n",
    "plt.gca().xaxis.set_major_locator(mdates.MonthLocator(interval=3))\n",
    "\n",
    "# Improve layout of date labels\n",
    "plt.gcf().autofmt_xdate()\n",
    "\n",
    "plt.title('Technical Debt Accumulation Over Time (Kubernetes)')\n",
    "plt.xlabel('Commit Date')\n",
    "plt.ylabel('Normalized Technical Debt Accumulation')\n",
    "plt.grid(True)\n",
    "plt.savefig(\"../rq1_results/kubernetes_danielsmith_rq1.png\")\n",
    "plt.show()"
   ]
  },
  {
   "cell_type": "markdown",
   "id": "57328c5e",
   "metadata": {},
   "source": [
    "RQ2"
   ]
  },
  {
   "cell_type": "code",
   "execution_count": 10,
   "id": "7c94d503",
   "metadata": {},
   "outputs": [
    {
     "name": "stdout",
     "output_type": "stream",
     "text": [
      "-0.0692848820376704\n",
      "0.4761501986518537\n"
     ]
    }
   ],
   "source": [
    "from scipy.stats import spearmanr, kendalltau\n",
    "\n",
    "# Calculate Spearman's correlation for 'normalized_sqale_index' and 'Seniority'\n",
    "correlation_seniority, p_value_seniority = spearmanr(filtered_df['normalized_sqale_index'], filtered_df['Seniority'])\n",
    "\n",
    "# Calculate Pearson's correlation for 'normalized_sqale_index' and 'Seniority'\n",
    "# correlation_seniority, p_value_seniority = kendalltau(filtered_df['normalized_sqale_index'], filtered_df['Seniority'])\n",
    "\n",
    "print(correlation_seniority)\n",
    "print(p_value_seniority)"
   ]
  },
  {
   "cell_type": "markdown",
   "id": "77431b0d",
   "metadata": {},
   "source": [
    "RQ3"
   ]
  },
  {
   "cell_type": "code",
   "execution_count": 11,
   "id": "092ed4c9",
   "metadata": {},
   "outputs": [
    {
     "name": "stdout",
     "output_type": "stream",
     "text": [
      "-0.07071404164829502\n",
      "0.4670778649630115\n"
     ]
    }
   ],
   "source": [
    "from scipy.stats import spearmanr\n",
    "\n",
    "# Calculate Spearman's correlation for 'normalized_sqale_index' and 'Commit'\n",
    "correlation_commit, p_value_commit = spearmanr(filtered_df['normalized_sqale_index'], filtered_df['Commit'])\n",
    "\n",
    "print(correlation_commit)\n",
    "print(p_value_commit)"
   ]
  },
  {
   "cell_type": "code",
   "execution_count": null,
   "id": "bf6625dc",
   "metadata": {},
   "outputs": [],
   "source": []
  }
 ],
 "metadata": {
  "kernelspec": {
   "display_name": "Python 3 (ipykernel)",
   "language": "python",
   "name": "python3"
  },
  "language_info": {
   "codemirror_mode": {
    "name": "ipython",
    "version": 3
   },
   "file_extension": ".py",
   "mimetype": "text/x-python",
   "name": "python",
   "nbconvert_exporter": "python",
   "pygments_lexer": "ipython3",
   "version": "3.9.13"
  }
 },
 "nbformat": 4,
 "nbformat_minor": 5
}
